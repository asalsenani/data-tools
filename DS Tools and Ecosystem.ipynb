{
 "cells": [
  {
   "cell_type": "markdown",
   "id": "9ed101b1-33b3-429f-bcf0-bc0025183aad",
   "metadata": {},
   "source": [
    "# Data Science Tools and Ecosystem"
   ]
  },
  {
   "cell_type": "markdown",
   "id": "6365bd4a-e646-4fec-b4a1-c68410971acd",
   "metadata": {},
   "source": [
    "### In this notebook, Data Science Tools and Ecosystem are summarized."
   ]
  },
  {
   "cell_type": "markdown",
   "id": "fb1ab041-888e-487e-b33b-9bf80e647bc0",
   "metadata": {},
   "source": [
    "### Objectives:\n",
    "- List popular languages for Data Science\n",
    "- List commonly used libraries used by Data Scientists\n",
    "- Some Data Science development environments.\n",
    "- a few examples of evaluating arithmetic expressions in Python"
   ]
  },
  {
   "cell_type": "markdown",
   "id": "fab83305-20f4-47b0-b56c-2cc8dd68f8a1",
   "metadata": {},
   "source": [
    "### Some of the popular languages that Data Scientists use are:\n",
    "1. python\n",
    "2. sql\n",
    "3. R"
   ]
  },
  {
   "cell_type": "markdown",
   "id": "e869d96a-bb9c-4caf-bd16-b0f06c1830c3",
   "metadata": {},
   "source": [
    "### Some of the commonly used libraries used by Data Scientists include:\n",
    "1. Pandas\n",
    "2. NumPy\n",
    "3. Matplotlib"
   ]
  },
  {
   "cell_type": "markdown",
   "id": "294bfdc5-a887-4bba-92f3-defc30f078c7",
   "metadata": {
    "tags": []
   },
   "source": [
    "| Data Science Tools |\n",
    "|--------------------|\n",
    "|   RStudio          |\n",
    "|   Watson Studio    |\n",
    "|   Jupyter          |"
   ]
  },
  {
   "cell_type": "markdown",
   "id": "248460ef-70f5-4bf1-9e00-ebda7de1748a",
   "metadata": {},
   "source": [
    "### Below are a few examples of evaluating arithmetic expressions in Python"
   ]
  },
  {
   "cell_type": "code",
   "execution_count": 2,
   "id": "13ec4771-322c-4b0b-9622-19fbfce25a57",
   "metadata": {
    "tags": []
   },
   "outputs": [
    {
     "data": {
      "text/plain": [
       "17"
      ]
     },
     "execution_count": 2,
     "metadata": {},
     "output_type": "execute_result"
    }
   ],
   "source": [
    "# This a simple arithmetic expression to mutiply then add integers\n",
    "(3*4)+5"
   ]
  },
  {
   "cell_type": "code",
   "execution_count": 3,
   "id": "748b3108-0c78-4de4-afbe-7e6ede6ea667",
   "metadata": {
    "tags": []
   },
   "outputs": [
    {
     "data": {
      "text/plain": [
       "3.3333333333333335"
      ]
     },
     "execution_count": 3,
     "metadata": {},
     "output_type": "execute_result"
    }
   ],
   "source": [
    "# This will convert 200 minutes to hours by diving by 60\n",
    "200/60"
   ]
  },
  {
   "cell_type": "markdown",
   "id": "0161352d-b093-4322-b8bb-6bb31f29e291",
   "metadata": {},
   "source": [
    "## Author\n",
    "Abdullah Alsenani"
   ]
  },
  {
   "cell_type": "code",
   "execution_count": null,
   "id": "8d49b61e-73a1-4a90-b46d-d96a37de5f36",
   "metadata": {},
   "outputs": [],
   "source": []
  }
 ],
 "metadata": {
  "kernelspec": {
   "display_name": "Python 3 (ipykernel)",
   "language": "python",
   "name": "python3"
  },
  "language_info": {
   "codemirror_mode": {
    "name": "ipython",
    "version": 3
   },
   "file_extension": ".py",
   "mimetype": "text/x-python",
   "name": "python",
   "nbconvert_exporter": "python",
   "pygments_lexer": "ipython3",
   "version": "3.11.5"
  }
 },
 "nbformat": 4,
 "nbformat_minor": 5
}
